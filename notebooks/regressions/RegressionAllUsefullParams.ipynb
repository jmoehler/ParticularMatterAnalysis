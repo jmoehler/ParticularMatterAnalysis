{
 "cells": [
  {
   "cell_type": "markdown",
   "metadata": {},
   "source": [
    "# Regression \n",
    "_Weitere Informationen sind im Code in den mit # markierten Zeilen zu finden_"
   ]
  },
  {
   "cell_type": "markdown",
   "metadata": {},
   "source": [
    "### Installationen"
   ]
  },
  {
   "cell_type": "code",
   "execution_count": 1,
   "metadata": {},
   "outputs": [
    {
     "name": "stdout",
     "output_type": "stream",
     "text": [
      "Requirement already satisfied: scipy in /usr/local/lib/python3.7/site-packages (1.2.1)\n",
      "Requirement already satisfied: numpy>=1.8.2 in /usr/local/lib/python3.7/site-packages (from scipy) (1.16.3)\n",
      "Requirement already satisfied: sklearn in /usr/local/lib/python3.7/site-packages (0.0)\n",
      "Requirement already satisfied: scikit-learn in /usr/local/lib/python3.7/site-packages (from sklearn) (0.21.1)\n",
      "Requirement already satisfied: numpy>=1.11.0 in /usr/local/lib/python3.7/site-packages (from scikit-learn->sklearn) (1.16.3)\n",
      "Requirement already satisfied: scipy>=0.17.0 in /usr/local/lib/python3.7/site-packages (from scikit-learn->sklearn) (1.2.1)\n",
      "Requirement already satisfied: joblib>=0.11 in /usr/local/lib/python3.7/site-packages (from scikit-learn->sklearn) (0.13.2)\n"
     ]
    }
   ],
   "source": [
    "!pip install scipy \n",
    "!pip install sklearn"
   ]
  },
  {
   "cell_type": "markdown",
   "metadata": {},
   "source": [
    "### Versionsabfrage"
   ]
  },
  {
   "cell_type": "code",
   "execution_count": 2,
   "metadata": {},
   "outputs": [
    {
     "name": "stdout",
     "output_type": "stream",
     "text": [
      "0.21.1\n",
      "1.2.1\n"
     ]
    }
   ],
   "source": [
    "import sklearn\n",
    "print(sklearn.__version__)\n",
    "import scipy\n",
    "print(scipy.__version__)"
   ]
  },
  {
   "cell_type": "markdown",
   "metadata": {},
   "source": [
    "## Die Imports"
   ]
  },
  {
   "cell_type": "code",
   "execution_count": 1,
   "metadata": {},
   "outputs": [],
   "source": [
    "import pandas as pd\n",
    "import numpy as np\n",
    "from scipy import stats\n",
    "from datetime import datetime\n",
    "from sklearn import preprocessing\n",
    "from sklearn.model_selection import KFold\n",
    "import matplotlib.pyplot as plt\n",
    "\n",
    "%matplotlib inline\n"
   ]
  },
  {
   "cell_type": "markdown",
   "metadata": {},
   "source": [
    "## Verkettung der Trainingsdaten"
   ]
  },
  {
   "cell_type": "code",
   "execution_count": 78,
   "metadata": {
    "scrolled": true
   },
   "outputs": [
    {
     "name": "stdout",
     "output_type": "stream",
     "text": [
      "\n",
      "***year:2018\n",
      "Temp. (°C)-Mittel            0\n",
      "Temp. (°C)-Max               0\n",
      "Temp. (°C)-Min               0\n",
      "Feuchte (%)-Mittel           0\n",
      "WG (m/s)-Mittel              0\n",
      "WG (m/s)-Max                 0\n",
      "WR (Grad)-Mittel             0\n",
      "Druck (hPa)-Mittel           0\n",
      "Niederschlag (l/m²)-Summe    0\n",
      "PM10 (µg/m³)-Mittel          0\n",
      "dtype: int64\n",
      " new:17520\n",
      " len:17520\n",
      "\n",
      "***year:2017\n",
      "Temp. (°C)-Mittel               6\n",
      "Temp. (°C)-Max               1493\n",
      "Temp. (°C)-Min               1853\n",
      "Feuchte (%)-Mittel              6\n",
      "WG (m/s)-Mittel                 1\n",
      "WG (m/s)-Max                    1\n",
      "WR (Grad)-Mittel                1\n",
      "Druck (hPa)-Mittel              1\n",
      "Niederschlag (l/m²)-Summe       1\n",
      "PM10 (µg/m³)-Mittel            77\n",
      "dtype: int64\n",
      " new:17520\n",
      " len:35040\n",
      "\n",
      "***year:2016\n",
      "Temp. (°C)-Mittel               20\n",
      "Temp. (°C)-Max               10224\n",
      "Temp. (°C)-Min               16816\n",
      "Feuchte (%)-Mittel              19\n",
      "WG (m/s)-Mittel                 19\n",
      "WG (m/s)-Max                 10224\n",
      "WR (Grad)-Mittel                19\n",
      "Druck (hPa)-Mittel              19\n",
      "Niederschlag (l/m²)-Summe       19\n",
      "PM10 (µg/m³)-Mittel           4709\n",
      "dtype: int64\n",
      " new:17568\n",
      " len:52608\n",
      "\n",
      "***year:2015\n",
      "Temp. (°C)-Mittel             250\n",
      "Temp. (°C)-Max               7278\n",
      "Temp. (°C)-Min               7278\n",
      "Feuchte (%)-Mittel            132\n",
      "WG (m/s)-Mittel               132\n",
      "WG (m/s)-Max                 7223\n",
      "WR (Grad)-Mittel              368\n",
      "Druck (hPa)-Mittel            189\n",
      "Niederschlag (l/m²)-Summe      42\n",
      "PM10 (µg/m³)-Mittel           592\n",
      "dtype: int64\n",
      " new:17520\n",
      " len:70128\n",
      "\n",
      "***year:2014\n",
      "Temp. (°C)-Mittel              25\n",
      "Temp. (°C)-Max                 25\n",
      "Temp. (°C)-Min                 25\n",
      "Feuchte (%)-Mittel             10\n",
      "WG (m/s)-Mittel                 4\n",
      "WG (m/s)-Max                    4\n",
      "WR (Grad)-Mittel              479\n",
      "Druck (hPa)-Mittel             14\n",
      "Niederschlag (l/m²)-Summe     119\n",
      "PM10 (µg/m³)-Mittel          7971\n",
      "dtype: int64\n",
      " new:17520\n",
      " len:87648\n",
      "\n",
      "***year:2013\n",
      "Temp. (°C)-Mittel              121\n",
      "Temp. (°C)-Max                  19\n",
      "Temp. (°C)-Min                  19\n",
      "Feuchte (%)-Mittel             114\n",
      "WG (m/s)-Mittel                115\n",
      "WG (m/s)-Max                   115\n",
      "WR (Grad)-Mittel               493\n",
      "Druck (hPa)-Mittel             124\n",
      "Niederschlag (l/m²)-Summe      541\n",
      "PM10 (µg/m³)-Mittel          10192\n",
      "dtype: int64\n",
      " new:17520\n",
      " len:105168\n",
      "\n",
      "***year:2012\n",
      "Temp. (°C)-Mittel               5\n",
      "Temp. (°C)-Max                  5\n",
      "Temp. (°C)-Min                  5\n",
      "Feuchte (%)-Mittel             58\n",
      "WG (m/s)-Mittel                 1\n",
      "WG (m/s)-Max                    1\n",
      "WR (Grad)-Mittel              387\n",
      "Druck (hPa)-Mittel            147\n",
      "Niederschlag (l/m²)-Summe    1262\n",
      "PM10 (µg/m³)-Mittel           431\n",
      "dtype: int64\n",
      " new:17568\n",
      " len:122736\n",
      "\n",
      "***year:2011\n",
      "Temp. (°C)-Mittel             23\n",
      "Temp. (°C)-Max                23\n",
      "Temp. (°C)-Min                23\n",
      "Feuchte (%)-Mittel            23\n",
      "WG (m/s)-Mittel                3\n",
      "WG (m/s)-Max                   3\n",
      "WR (Grad)-Mittel             412\n",
      "Druck (hPa)-Mittel           695\n",
      "Niederschlag (l/m²)-Summe      0\n",
      "PM10 (µg/m³)-Mittel          452\n",
      "dtype: int64\n",
      " new:17520\n",
      " len:140256\n"
     ]
    }
   ],
   "source": [
    "# concatenate data\n",
    "\n",
    "path=\"/Users/jakob/Dokumente/Schule/Jahresarbeit/Projekte/ParticulateMatterAnalysis/data/StuttgartCsvDone/\"\n",
    "cols2drop = ['Uhrzeit-','UVA-Str. (W/m²)-Mittel', 'UVB-Str. (W/m²)-Mittel', 'Str.-Bilanz (W/m²)-Mittel', 'PM2.5 (µg/m³)-Mittel', 'SO2 (µg/m³)-Mittel', 'CO (mg/m³)-Mittel','NO (µg/m³)-Mittel','NO2 (µg/m³)-Mittel','O3 (µg/m³)-Mittel','Globalstr. (W/m²)-Mittel']\n",
    "\n",
    "df = pd.DataFrame()\n",
    "\n",
    "for y in range(2018,2010,-1):\n",
    "    if y == 2000 or y == 2001:\n",
    "        continue\n",
    "    \n",
    "    # Folgende Prozesse werden für jedes Jahr nacheinander durchgeführt\n",
    "    \n",
    "    # Jahr wird ausgegeben\n",
    "    print (\"\\n***year:%d\" %y)\n",
    "    dfx = pd.read_csv(path + \"Halbstd-Werte-Stuttgart-Mitte-SZ_%s_D.csv\" % (str(y)), index_col=[0], sep = \";\")\n",
    "    \n",
    "    # unnötige Spalten aussortieren\n",
    "    for col in cols2drop:\n",
    "        if col in dfx:\n",
    "            dfx = dfx.drop(col, axis=1)\n",
    "\n",
    "\n",
    "    # Spaltenname mit Summe der nicht gefüllten Zellen werden ausgegeben\n",
    "    print(dfx.isna().sum())#\n",
    "    # Anzahl der neu hinzgefügten Spalten wird ausgegeben\n",
    "    print(\" new:%d\" %len(dfx))\n",
    "\n",
    "    \n",
    "    df = pd.concat([df,dfx], sort=False)\n",
    "    # Anzahl der insgesammten Spalten wird ausgegeben\n",
    "    print(\" len:%d\" %len(df))\n",
    "    \n",
    "\n"
   ]
  },
  {
   "cell_type": "markdown",
   "metadata": {},
   "source": [
    "### Zahlen konvertieren\n",
    "die daten , als  und nicht . als Dezimaltrennzeichen verwendet wird, muss das geändert werden"
   ]
  },
  {
   "cell_type": "code",
   "execution_count": 4,
   "metadata": {},
   "outputs": [
    {
     "name": "stderr",
     "output_type": "stream",
     "text": [
      "/usr/local/lib/python3.7/site-packages/ipykernel_launcher.py:1: FutureWarning: convert_objects is deprecated.  To re-infer data dtypes for object columns, use DataFrame.infer_objects()\n",
      "For all other conversions use the data-type specific converters pd.to_datetime, pd.to_timedelta and pd.to_numeric.\n",
      "  \"\"\"Entry point for launching an IPython kernel.\n"
     ]
    },
    {
     "data": {
      "text/plain": [
       "Temp. (°C)-Mittel            float64\n",
       "Temp. (°C)-Max               float64\n",
       "Temp. (°C)-Min               float64\n",
       "Feuchte (%)-Mittel           float64\n",
       "WG (m/s)-Mittel              float64\n",
       "WG (m/s)-Max                 float64\n",
       "WR (Grad)-Mittel             float64\n",
       "Druck (hPa)-Mittel           float64\n",
       "Niederschlag (l/m²)-Summe    float64\n",
       "PM10 (µg/m³)-Mittel          float64\n",
       "dtype: object"
      ]
     },
     "execution_count": 4,
     "metadata": {},
     "output_type": "execute_result"
    }
   ],
   "source": [
    "df = df.convert_objects(convert_numeric=True)\n",
    "df.dtypes"
   ]
  },
  {
   "cell_type": "markdown",
   "metadata": {},
   "source": [
    "## Dropna\n",
    "alle Zeilen, welche ungefüllte Zellen haben werden aussortiert\n",
    "\n",
    "NaN = Leer ( leere Zelle wird automatisch vom Programm mit NaN gefüllt) \n",
    "\n",
    "NaN Bed.: not a number"
   ]
  },
  {
   "cell_type": "code",
   "execution_count": 42,
   "metadata": {},
   "outputs": [
    {
     "name": "stdout",
     "output_type": "stream",
     "text": [
      "Temp. (°C)-Mittel              556\n",
      "Temp. (°C)-Max               19253\n",
      "Temp. (°C)-Min               26119\n",
      "Feuchte (%)-Mittel             471\n",
      "WG (m/s)-Mittel                380\n",
      "WG (m/s)-Max                 17769\n",
      "WR (Grad)-Mittel              2272\n",
      "Druck (hPa)-Mittel            1293\n",
      "Niederschlag (l/m²)-Summe     2092\n",
      "PM10 (µg/m³)-Mittel          36455\n",
      "dtype: int64\n",
      "\n",
      "len       : 140256\n",
      "len-non-na:  79711\n",
      "removed   :  60545\n"
     ]
    }
   ],
   "source": [
    "print(df.isna().sum())\n",
    "df1 = df.dropna(axis=0)\n",
    "# Spaltenname mit Summe der nicht gefüllten Zellen werden ausgegeben\n",
    "print(\"\\nlen       : %6d\" %len(df))\n",
    "# Anzahl der Zeilen ohne NaN Werte\n",
    "print(\"len-non-na: %6d\" %len(df1))\n",
    "print(\"removed   : %6d\" %(len(df)-len(df1)))"
   ]
  },
  {
   "cell_type": "markdown",
   "metadata": {},
   "source": [
    "## Zeit\n",
    "die Zeit in eine Zahl, welche linear steigt uund am aktuellsten Datum den höchsten Wert hat"
   ]
  },
  {
   "cell_type": "code",
   "execution_count": 45,
   "metadata": {
    "scrolled": true
   },
   "outputs": [],
   "source": [
    "df1['Epochs'] = df1.index.map(lambda x: datetime.strptime(x, '%Y-%m-%d %H:%M:%S').timestamp())"
   ]
  },
  {
   "cell_type": "markdown",
   "metadata": {},
   "source": [
    "### Beispiel"
   ]
  },
  {
   "cell_type": "code",
   "execution_count": 50,
   "metadata": {},
   "outputs": [
    {
     "data": {
      "text/plain": [
       "1514763000.0"
      ]
     },
     "execution_count": 50,
     "metadata": {},
     "output_type": "execute_result"
    }
   ],
   "source": [
    "dateStr='2018-01-01 00:30:00'\n",
    "date1 = datetime.strptime(dateStr, '%Y-%m-%d %H:%M:%S')\n",
    "date1.timestamp()"
   ]
  },
  {
   "cell_type": "markdown",
   "metadata": {},
   "source": [
    "### Die Testdaten weden beschrieben "
   ]
  },
  {
   "cell_type": "code",
   "execution_count": 46,
   "metadata": {
    "scrolled": true
   },
   "outputs": [
    {
     "data": {
      "text/html": [
       "<div>\n",
       "<style scoped>\n",
       "    .dataframe tbody tr th:only-of-type {\n",
       "        vertical-align: middle;\n",
       "    }\n",
       "\n",
       "    .dataframe tbody tr th {\n",
       "        vertical-align: top;\n",
       "    }\n",
       "\n",
       "    .dataframe thead th {\n",
       "        text-align: right;\n",
       "    }\n",
       "</style>\n",
       "<table border=\"1\" class=\"dataframe\">\n",
       "  <thead>\n",
       "    <tr style=\"text-align: right;\">\n",
       "      <th></th>\n",
       "      <th>Temp. (°C)-Mittel</th>\n",
       "      <th>Temp. (°C)-Max</th>\n",
       "      <th>Temp. (°C)-Min</th>\n",
       "      <th>Feuchte (%)-Mittel</th>\n",
       "      <th>WG (m/s)-Mittel</th>\n",
       "      <th>WG (m/s)-Max</th>\n",
       "      <th>WR (Grad)-Mittel</th>\n",
       "      <th>Druck (hPa)-Mittel</th>\n",
       "      <th>Niederschlag (l/m²)-Summe</th>\n",
       "      <th>PM10 (µg/m³)-Mittel</th>\n",
       "      <th>Epochs</th>\n",
       "    </tr>\n",
       "  </thead>\n",
       "  <tbody>\n",
       "    <tr>\n",
       "      <th>count</th>\n",
       "      <td>79711.000000</td>\n",
       "      <td>79711.000000</td>\n",
       "      <td>79711.000000</td>\n",
       "      <td>79711.000000</td>\n",
       "      <td>79711.000000</td>\n",
       "      <td>79711.000000</td>\n",
       "      <td>79711.000000</td>\n",
       "      <td>79711.000000</td>\n",
       "      <td>79711.000000</td>\n",
       "      <td>79711.000000</td>\n",
       "      <td>7.971100e+04</td>\n",
       "    </tr>\n",
       "    <tr>\n",
       "      <th>mean</th>\n",
       "      <td>11.928124</td>\n",
       "      <td>12.353125</td>\n",
       "      <td>11.522381</td>\n",
       "      <td>66.204076</td>\n",
       "      <td>1.850105</td>\n",
       "      <td>4.025305</td>\n",
       "      <td>190.914529</td>\n",
       "      <td>985.458851</td>\n",
       "      <td>0.028361</td>\n",
       "      <td>18.350255</td>\n",
       "      <td>1.405018e+09</td>\n",
       "    </tr>\n",
       "    <tr>\n",
       "      <th>std</th>\n",
       "      <td>7.754769</td>\n",
       "      <td>7.878755</td>\n",
       "      <td>7.648805</td>\n",
       "      <td>18.232736</td>\n",
       "      <td>0.958698</td>\n",
       "      <td>2.238409</td>\n",
       "      <td>92.939767</td>\n",
       "      <td>7.572713</td>\n",
       "      <td>0.208865</td>\n",
       "      <td>13.843314</td>\n",
       "      <td>8.095014e+07</td>\n",
       "    </tr>\n",
       "    <tr>\n",
       "      <th>min</th>\n",
       "      <td>-12.450000</td>\n",
       "      <td>-11.810000</td>\n",
       "      <td>-13.120000</td>\n",
       "      <td>14.540000</td>\n",
       "      <td>0.000000</td>\n",
       "      <td>0.200000</td>\n",
       "      <td>0.000000</td>\n",
       "      <td>945.000000</td>\n",
       "      <td>0.000000</td>\n",
       "      <td>-34.880000</td>\n",
       "      <td>1.293838e+09</td>\n",
       "    </tr>\n",
       "    <tr>\n",
       "      <th>25%</th>\n",
       "      <td>5.940500</td>\n",
       "      <td>6.242000</td>\n",
       "      <td>5.617000</td>\n",
       "      <td>52.240000</td>\n",
       "      <td>1.200000</td>\n",
       "      <td>2.455000</td>\n",
       "      <td>115.900000</td>\n",
       "      <td>981.200000</td>\n",
       "      <td>0.000000</td>\n",
       "      <td>10.100000</td>\n",
       "      <td>1.335063e+09</td>\n",
       "    </tr>\n",
       "    <tr>\n",
       "      <th>50%</th>\n",
       "      <td>11.590000</td>\n",
       "      <td>11.920000</td>\n",
       "      <td>11.200000</td>\n",
       "      <td>69.640000</td>\n",
       "      <td>1.685000</td>\n",
       "      <td>3.483000</td>\n",
       "      <td>215.300000</td>\n",
       "      <td>985.900000</td>\n",
       "      <td>0.000000</td>\n",
       "      <td>15.850000</td>\n",
       "      <td>1.397939e+09</td>\n",
       "    </tr>\n",
       "    <tr>\n",
       "      <th>75%</th>\n",
       "      <td>17.620000</td>\n",
       "      <td>18.100000</td>\n",
       "      <td>17.170000</td>\n",
       "      <td>81.680000</td>\n",
       "      <td>2.300000</td>\n",
       "      <td>5.051000</td>\n",
       "      <td>243.000000</td>\n",
       "      <td>990.400000</td>\n",
       "      <td>0.000000</td>\n",
       "      <td>23.870000</td>\n",
       "      <td>1.490903e+09</td>\n",
       "    </tr>\n",
       "    <tr>\n",
       "      <th>max</th>\n",
       "      <td>36.850000</td>\n",
       "      <td>38.240000</td>\n",
       "      <td>36.190000</td>\n",
       "      <td>97.300000</td>\n",
       "      <td>9.768000</td>\n",
       "      <td>24.440000</td>\n",
       "      <td>360.000000</td>\n",
       "      <td>1007.000000</td>\n",
       "      <td>12.710000</td>\n",
       "      <td>966.100000</td>\n",
       "      <td>1.546297e+09</td>\n",
       "    </tr>\n",
       "  </tbody>\n",
       "</table>\n",
       "</div>"
      ],
      "text/plain": [
       "       Temp. (°C)-Mittel  Temp. (°C)-Max  Temp. (°C)-Min  Feuchte (%)-Mittel  \\\n",
       "count       79711.000000    79711.000000    79711.000000        79711.000000   \n",
       "mean           11.928124       12.353125       11.522381           66.204076   \n",
       "std             7.754769        7.878755        7.648805           18.232736   \n",
       "min           -12.450000      -11.810000      -13.120000           14.540000   \n",
       "25%             5.940500        6.242000        5.617000           52.240000   \n",
       "50%            11.590000       11.920000       11.200000           69.640000   \n",
       "75%            17.620000       18.100000       17.170000           81.680000   \n",
       "max            36.850000       38.240000       36.190000           97.300000   \n",
       "\n",
       "       WG (m/s)-Mittel  WG (m/s)-Max  WR (Grad)-Mittel  Druck (hPa)-Mittel  \\\n",
       "count     79711.000000  79711.000000      79711.000000        79711.000000   \n",
       "mean          1.850105      4.025305        190.914529          985.458851   \n",
       "std           0.958698      2.238409         92.939767            7.572713   \n",
       "min           0.000000      0.200000          0.000000          945.000000   \n",
       "25%           1.200000      2.455000        115.900000          981.200000   \n",
       "50%           1.685000      3.483000        215.300000          985.900000   \n",
       "75%           2.300000      5.051000        243.000000          990.400000   \n",
       "max           9.768000     24.440000        360.000000         1007.000000   \n",
       "\n",
       "       Niederschlag (l/m²)-Summe  PM10 (µg/m³)-Mittel        Epochs  \n",
       "count               79711.000000         79711.000000  7.971100e+04  \n",
       "mean                    0.028361            18.350255  1.405018e+09  \n",
       "std                     0.208865            13.843314  8.095014e+07  \n",
       "min                     0.000000           -34.880000  1.293838e+09  \n",
       "25%                     0.000000            10.100000  1.335063e+09  \n",
       "50%                     0.000000            15.850000  1.397939e+09  \n",
       "75%                     0.000000            23.870000  1.490903e+09  \n",
       "max                    12.710000           966.100000  1.546297e+09  "
      ]
     },
     "execution_count": 46,
     "metadata": {},
     "output_type": "execute_result"
    }
   ],
   "source": [
    "df1.describe()"
   ]
  },
  {
   "cell_type": "markdown",
   "metadata": {},
   "source": [
    "## Imoport des Programms der Reargression "
   ]
  },
  {
   "cell_type": "code",
   "execution_count": 47,
   "metadata": {},
   "outputs": [],
   "source": [
    "from sklearn.experimental import enable_hist_gradient_boosting\n",
    "from sklearn.ensemble import HistGradientBoostingRegressor"
   ]
  },
  {
   "cell_type": "markdown",
   "metadata": {},
   "source": [
    "## Die Regression"
   ]
  },
  {
   "cell_type": "code",
   "execution_count": 48,
   "metadata": {},
   "outputs": [
    {
     "name": "stdout",
     "output_type": "stream",
     "text": [
      "HistGradientBoostingRegressor: .....[0.6258083105233292, 0.6793349971436111, 0.6610759128420445, 0.6241389142806117, 0.6559035986853833]\n"
     ]
    }
   ],
   "source": [
    "\n",
    "import sys\n",
    "cols = ['Epochs','Temp. (°C)-Mittel','Feuchte (%)-Mittel', 'WG (m/s)-Mittel',\n",
    "        'Druck (hPa)-Mittel', 'Niederschlag (l/m²)-Summe']\n",
    "cols1 = ['Temp. (°C)-Mittel']\n",
    "# gegebene Daten \n",
    "X = pd.DataFrame(df1[cols])\n",
    "# prognostizierte Daten\n",
    "y = pd.DataFrame(df1['PM10 (µg/m³)-Mittel'])\n",
    "\n",
    "\n",
    "methods = [HistGradientBoostingRegressor(max_iter=5000)]\n",
    "bestScore = 0\n",
    "\n",
    "for model in methods:\n",
    "    sys.stdout.write(type(model).__name__ +\": \")\n",
    "    scores = []\n",
    "    \n",
    "    # testmenge wird in 5 Teile gespalten\n",
    "    kfold = KFold(n_splits=5, shuffle=True, random_state=42)\n",
    "    for i, (train, test) in enumerate(kfold.split(X, y)):\n",
    "      sys.stdout.write(\".\")\n",
    "      model.fit(X.iloc[train,:], y.iloc[train,:].values.ravel())\n",
    "        \n",
    "      \n",
    "      # der beste score wird ermittelt, ausgegeben und gespeichert  \n",
    "      score = model.score(X.iloc[test,:], y.iloc[test,:].values.ravel())\n",
    "      if score > bestScore:\n",
    "        bestModel = model\n",
    "      scores.append(score)\n",
    "\n",
    "    print(scores)\n",
    "    \n"
   ]
  },
  {
   "cell_type": "markdown",
   "metadata": {},
   "source": [
    "### Erklärung Output Regression\n",
    "\n",
    "Die Testdaten werden in 5 seperate Datensetze geteilt. Aus jeweils vier der Datensätze wird eine Korrelation aus den gegebenen Daten x und zu prognostizerten Daten y erstellt und an dem 5. Datensatz getestet. Dieser Vorgang wird in allen möglichen Optionen ( also 5) durchgeführt. Der die beste der Korrelationen wird verwendet um Vorhersageb zu treffen.\n",
    "\n",
    "Name des Regressionsmodelles.....     [1.Korrelation        2.Korrelation       3.Korrelation     4.Korrelation 5.Korrelation]\n",
    "\n",
    "HistGradientBoostingRegressor: .....[0.6258083105233292, 0.6793349971436111, 0.6610759128420445, 0.6241389142806117, 0.6559035986853833]"
   ]
  },
  {
   "cell_type": "markdown",
   "metadata": {},
   "source": [
    "## Vorhersage \n",
    "Vorhersage für PM10 Werte aus einer\n",
    "\n",
    "Zeit,\n",
    "\n",
    "Temperatur in Grad C\n",
    "\n",
    "Feuchtigkeit in %\n",
    "\n",
    "Windgeschwindigkeit in kmh\n",
    "\n",
    "Druck in hPa (Normalfall wäre etwa 1010 hPa)\n",
    "\n",
    "Niederschlag in l/m²"
   ]
  },
  {
   "cell_type": "code",
   "execution_count": 229,
   "metadata": {},
   "outputs": [
    {
     "name": "stdout",
     "output_type": "stream",
     "text": [
      "1559370600.0\n",
      "4.289 µg/m³ \n"
     ]
    }
   ],
   "source": [
    "\n",
    "# Daum wird umgerechnet\n",
    "#        datum und Uhrzeit \n",
    "dateStr='2019-06-01 08:30:00'\n",
    "date1 = datetime.strptime(dateStr, '%Y-%m-%d %H:%M:%S')\n",
    "date2 = date1.timestamp()\n",
    "print(date2)\n",
    "\n",
    "#                         Epochs,Temp.,Feucht.,WG,Druck,Nied.\n",
    "\n",
    "blubb = bestModel.predict([[date2,   15,   30,40, 1010,    0]])\n",
    "print(\"%.3f µg/m³ \" %(blubb))"
   ]
  },
  {
   "cell_type": "markdown",
   "metadata": {},
   "source": [
    "## Temperatur"
   ]
  },
  {
   "cell_type": "code",
   "execution_count": 282,
   "metadata": {},
   "outputs": [
    {
     "data": {
      "text/plain": [
       "(-10, 35)"
      ]
     },
     "execution_count": 282,
     "metadata": {},
     "output_type": "execute_result"
    },
    {
     "data": {
      "image/png": "[encoded data removed]",
      "text/plain": [
       "<Figure size 432x288 with 1 Axes>"
      ]
     },
     "metadata": {
      "needs_background": "light"
     },
     "output_type": "display_data"
    }
   ],
   "source": [
    "\n",
    "tempDi     = []\n",
    "tempX      = []\n",
    "\n",
    "staSto = np.arange(-10,45,0.1)\n",
    "for X in staSto:\n",
    "    date3 = 1559370600.0\n",
    "    modPred = bestModel.predict([[date3,X,30,20,1010,0]])\n",
    "    stri = float(modPred)\n",
    "    tempDi.append(stri)\n",
    "    tempX.append(X)\n",
    "    \n",
    "#print(\"tempDi: %s\" %(tempDi)) \n",
    "\n",
    "tempDi2     = []\n",
    "tempX2      = []\n",
    "\n",
    "staSto = np.arange(-10,45,1)\n",
    "for X in staSto:\n",
    "    date3 = 1559370600.0\n",
    "    modPred = bestModel.predict([[date3,X,30,20,1010,0]])\n",
    "    stri = float(modPred)\n",
    "    tempDi2.append(stri)\n",
    "    tempX2.append(X)\n",
    "\n",
    "plt.plot(tempX, tempDi, color= \"blue\")    \n",
    "plt.plot(tempX2, tempDi2, color= \"red\")\n",
    "plt.legend(['Temperatur/PM10 10x ext','Temperatur/PM10'], loc=4)\n",
    "plt.xlabel(\"Temperatur\")\n",
    "plt.ylabel(\"PM10\")\n",
    "\n",
    "axes = plt.gca()\n",
    "axes.set_xlim([-10,35])"
   ]
  },
  {
   "cell_type": "markdown",
   "metadata": {},
   "source": [
    "## Feuchtigkeit"
   ]
  },
  {
   "cell_type": "code",
   "execution_count": 283,
   "metadata": {},
   "outputs": [
    {
     "data": {
      "text/plain": [
       "(20, 100)"
      ]
     },
     "execution_count": 283,
     "metadata": {},
     "output_type": "execute_result"
    },
    {
     "data": {
      "image/png": "[encoded data removed]",
      "text/plain": [
       "<Figure size 432x288 with 1 Axes>"
      ]
     },
     "metadata": {
      "needs_background": "light"
     },
     "output_type": "display_data"
    }
   ],
   "source": [
    "feuchtDi   = []\n",
    "feuchtX    = []\n",
    "\n",
    "\n",
    "for X in np.arange(0,110,0.2):\n",
    "    date3 = 1559370600.0\n",
    "    modPred = bestModel.predict([[date3,15,X,20,1010,0]])\n",
    "    stri = float(modPred)\n",
    "    feuchtDi.append(stri)\n",
    "    feuchtX.append(X)\n",
    "#print(\"feuchtDi: %s\" %(feuchtDi))\n",
    "\n",
    "feuchtDi2   = []\n",
    "feuchtX2    = []\n",
    "\n",
    "\n",
    "for X in np.arange(0,110,2):\n",
    "    date3 = 1559370600.0\n",
    "    modPred = bestModel.predict([[date3,15,X,20,1010,0]])\n",
    "    stri = float(modPred)\n",
    "    feuchtDi2.append(stri)\n",
    "    feuchtX2.append(X)\n",
    "\n",
    "plt.plot(feuchtX, feuchtDi, color= \"blue\")\n",
    "plt.plot(feuchtX2, feuchtDi2, color= \"red\")\n",
    "plt.legend(['Feuchte/PM10 10x ext', 'Feuchte/PM10'], loc=2)\n",
    "plt.xlabel(\"Feuchte\")\n",
    "plt.ylabel(\"PM10\")\n",
    "\n",
    "axes = plt.gca()\n",
    "axes.set_xlim([20,100])"
   ]
  },
  {
   "cell_type": "markdown",
   "metadata": {},
   "source": [
    "## Windgeschwindigkeit"
   ]
  },
  {
   "cell_type": "code",
   "execution_count": 284,
   "metadata": {},
   "outputs": [
    {
     "data": {
      "text/plain": [
       "(0, 6)"
      ]
     },
     "execution_count": 284,
     "metadata": {},
     "output_type": "execute_result"
    },
    {
     "data": {
      "image/png": "[encoded data removed]",
      "text/plain": [
       "<Figure size 432x288 with 1 Axes>"
      ]
     },
     "metadata": {
      "needs_background": "light"
     },
     "output_type": "display_data"
    }
   ],
   "source": [
    "wgDi       = []\n",
    "wgX        = []\n",
    "\n",
    "for X in np.arange(0,10,0.01):\n",
    "    date3 = 1559370600.0\n",
    "    modPred = bestModel.predict([[date3,15,30,X,1010,0]])\n",
    "    stri = float(modPred)\n",
    "    wgDi.append(stri)\n",
    "    wgX.append(X)\n",
    "    \n",
    "#print(\"wgDi: %s\" %(wgDi)) \n",
    "\n",
    "wgDi2       = []\n",
    "wgX2        = []\n",
    "\n",
    "for X in np.arange(0,10,0.1):\n",
    "    date3 = 1559370600.0\n",
    "    modPred = bestModel.predict([[date3,15,30,X,1010,0]])\n",
    "    stri = float(modPred)\n",
    "    wgDi2.append(stri)\n",
    "    wgX2.append(X)\n",
    "    \n",
    "\n",
    "\n",
    "plt.plot(wgX,wgDi, color= \"blue\")\n",
    "plt.plot(wgX2,wgDi2, color= \"red\")\n",
    "plt.legend(['Windgeschwindigkeit/PM10 10x ext','Windgeschwindigkeit/PM10'], loc=1)\n",
    "plt.xlabel(\"Feuchte\")\n",
    "plt.ylabel(\"PM10\")\n",
    "\n",
    "axes = plt.gca()\n",
    "axes.set_xlim([0,6])"
   ]
  },
  {
   "cell_type": "markdown",
   "metadata": {},
   "source": [
    "## Druck"
   ]
  },
  {
   "cell_type": "code",
   "execution_count": 285,
   "metadata": {},
   "outputs": [
    {
     "data": {
      "text/plain": [
       "(955, 1015)"
      ]
     },
     "execution_count": 285,
     "metadata": {},
     "output_type": "execute_result"
    },
    {
     "data": {
      "image/png": "[encoded data removed]",
      "text/plain": [
       "<Figure size 432x288 with 1 Axes>"
      ]
     },
     "metadata": {
      "needs_background": "light"
     },
     "output_type": "display_data"
    }
   ],
   "source": [
    "druckDi    = []  \n",
    "druckX     = []\n",
    "\n",
    "for X in np.arange(940,1050,1):\n",
    "    date3 = 1559370600.0\n",
    "    modPred = bestModel.predict([[date3,15,30,20,X,0]])\n",
    "    stri = float(modPred)\n",
    "    druckDi.append(stri)\n",
    "    druckX.append(X)\n",
    "    \n",
    "#print(\"druckDi: %s\" %(druckDi)) \n",
    "\n",
    "druckDi2    = []  \n",
    "druckX2     = []\n",
    "\n",
    "for X in np.arange(940,1050,10):\n",
    "    date3 = 1559370600.0\n",
    "    modPred = bestModel.predict([[date3,15,30,20,X,0]])\n",
    "    stri = float(modPred)\n",
    "    druckDi2.append(stri)\n",
    "    druckX2.append(X)\n",
    "    \n",
    "\n",
    "\n",
    "plt.plot(druckX, druckDi, color= \"blue\")\n",
    "plt.plot(druckX2, druckDi2, color= \"red\")\n",
    "plt.legend(['Druck/PM10 10x ext', 'Druck/PM10'], loc=1)\n",
    "plt.xlabel(\"Druck\")\n",
    "plt.ylabel(\"PM10\")\n",
    "\n",
    "axes = plt.gca()\n",
    "axes.set_xlim([955,1015])"
   ]
  },
  {
   "cell_type": "markdown",
   "metadata": {},
   "source": [
    "## Niederschlag"
   ]
  },
  {
   "cell_type": "code",
   "execution_count": 286,
   "metadata": {},
   "outputs": [
    {
     "data": {
      "text/plain": [
       "(5, 22)"
      ]
     },
     "execution_count": 286,
     "metadata": {},
     "output_type": "execute_result"
    },
    {
     "data": {
      "image/png": "[encoded data removed]",
      "text/plain": [
       "<Figure size 432x288 with 1 Axes>"
      ]
     },
     "metadata": {
      "needs_background": "light"
     },
     "output_type": "display_data"
    }
   ],
   "source": [
    "niedDi     = []\n",
    "niedX      = []\n",
    "\n",
    "for X in np.arange(0,33,0.3):\n",
    "    date3 = 1559370600.0\n",
    "    modPred = bestModel.predict([[date3,15,30,20,1010,X]])\n",
    "    stri = float(modPred)\n",
    "    niedDi.append(stri)\n",
    "    niedX.append(X)\n",
    "    \n",
    "#print(\"niedDi: %s\" %(niedDi)) \n",
    "\n",
    "niedDi2     = []\n",
    "niedX2      = []\n",
    "\n",
    "for X in np.arange(0,33,3):\n",
    "    date3 = 1559370600.0\n",
    "    modPred = bestModel.predict([[date3,15,30,20,1010,X]])\n",
    "    stri = float(modPred)\n",
    "    niedDi2.append(stri)\n",
    "    niedX2.append(X)\n",
    " \n",
    "\n",
    "plt.plot(niedX, druckDi, color= \"blue\")\n",
    "plt.plot(niedX2, druckDi2, color= \"red\")\n",
    "plt.legend(['Niederschlag/PM10  10x ext', 'Niederschlag/PM10'], loc=1)\n",
    "plt.xlabel(\"Niederschlag\")\n",
    "plt.ylabel(\"PM10\")\n",
    "\n",
    "axes = plt.gca()\n",
    "axes.set_xlim([5,22])"
   ]
  },
  {
   "cell_type": "code",
   "execution_count": null,
   "metadata": {},
   "outputs": [],
   "source": []
  }
 ],
 "metadata": {
  "kernelspec": {
   "display_name": "Python 3",
   "language": "python",
   "name": "python3"
  },
  "language_info": {
   "codemirror_mode": {
    "name": "ipython",
    "version": 3
   },
   "file_extension": ".py",
   "mimetype": "text/x-python",
   "name": "python",
   "nbconvert_exporter": "python",
   "pygments_lexer": "ipython3",
   "version": "3.7.2"
  }
 },
 "nbformat": 4,
 "nbformat_minor": 2
}
