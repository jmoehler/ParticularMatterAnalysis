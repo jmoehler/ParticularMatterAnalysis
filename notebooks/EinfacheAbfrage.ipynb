{
 "cells": [
  {
   "cell_type": "markdown",
   "metadata": {
    "collapsed": true
   },
   "source": [
    "# Einfache Abfrage\n",
    "\n",
    "_Weitere Informationen sind im Code in den mit # markierten Zeilen zu finden_"
   ]
  },
  {
   "cell_type": "markdown",
   "metadata": {},
   "source": [
    "### Import \n",
    "import verschiedener Module wie z.B. zum Zeitmessen  "
   ]
  },
  {
   "cell_type": "code",
   "execution_count": 1,
   "metadata": {},
   "outputs": [],
   "source": [
    "import pathlib\n",
    "import csv\n",
    "import time"
   ]
  },
  {
   "cell_type": "markdown",
   "metadata": {},
   "source": [
    "## Spezifikation für das Funktionieren in der Cloud\n",
    "Die folgenden Codefelder werden nur im bereich der Cloud gebraucht und entfallen bei benutzung auf einem lokalen System "
   ]
  },
  {
   "cell_type": "markdown",
   "metadata": {},
   "source": [
    "An den Stellen an welchen die Punkte '.........' sind werden eigentlich die erforderlichen Infos eingesetzt, welche aber aus sicherheitstechnischen Gründen von mir entfernt wurden "
   ]
  },
  {
   "cell_type": "code",
   "execution_count": 2,
   "metadata": {},
   "outputs": [],
   "source": [
    "# @hidden_cell\n",
    "# The following code contains the credentials for a connection in your Project.\n",
    "# You might want to remove those credentials before you share your notebook.\n",
    "cgsCreds = {\n",
    "    'IBM_API_KEY_ID': '........',\n",
    "    'IAM_SERVICE_ID': 'crn:v1:bluemix:public:iam-identity::a/a6c0651c3aab4e74a4d1e131c1858b21::serviceid:ServiceId-cf18b8e2-291a-4175-b02f-4fa012271ab7',\n",
    "    'ENDPOINT': 'https://s3.private.eu-de.cloud-object-storage.appdomain.cloud',\n",
    "    'IBM_AUTH_ENDPOINT': '........',\n",
    "    'BUCKET': '........'\n",
    "}"
   ]
  },
  {
   "cell_type": "code",
   "execution_count": 3,
   "metadata": {},
   "outputs": [],
   "source": [
    "from ibm_botocore.client import Config\n",
    "import ibm_boto3\n",
    "\n",
    "def read_file_cos(credentials,local_file_name, key):  \n",
    "    cos = ibm_boto3.client(service_name='s3',\n",
    "    ibm_api_key_id=credentials['IBM_API_KEY_ID'],\n",
    "    ibm_service_instance_id=credentials['IAM_SERVICE_ID'],\n",
    "    ibm_auth_endpoint=credentials['IBM_AUTH_ENDPOINT'],\n",
    "    config=Config(signature_version='oauth'),\n",
    "    endpoint_url=credentials['ENDPOINT'])\n",
    "    data_cos = None \n",
    "    try:\n",
    "        res=cos.download_file(Bucket=credentials['BUCKET'],Key=key,Filename=local_file_name)\n",
    "    except Exception as e:\n",
    "        print(Exception, e)\n",
    "    else:\n",
    "        print('File Downloaded')\n"
   ]
  },
  {
   "cell_type": "code",
   "execution_count": 4,
   "metadata": {},
   "outputs": [
    {
     "name": "stdout",
     "output_type": "stream",
     "text": [
      "File Downloaded\n"
     ]
    }
   ],
   "source": [
    "read_file_cos(cgsCreds, \"/var/tmp/tmp.csv\", \"2017-01-02_sds011_sensor_299.csv\")\n"
   ]
  },
  {
   "cell_type": "markdown",
   "metadata": {},
   "source": [
    "## Die Eingabe\n",
    "die individuelle Eingabe"
   ]
  },
  {
   "cell_type": "code",
   "execution_count": 5,
   "metadata": {},
   "outputs": [
    {
     "name": "stdout",
     "output_type": "stream",
     "text": [
      "File Downloaded\n",
      "/var/tmp/2019-04-05_sds011_sensor_299.csv\n"
     ]
    }
   ],
   "source": [
    "# die folgenden Zahlen bei y,m,d und s sind im Ramen der Verfügbarkeit frei wählbar\n",
    "y = 2019                #year\n",
    "m = 4                   #month\n",
    "d = 5                  #day\n",
    "s = 299                 #sensor\n",
    "\n",
    "filename = \"%04d-%02d-%02d_sds011_sensor_%d.csv\"  %(y,m,d,s)\n",
    "path = \"/var/tmp/\" + filename\n",
    "read_file_cos(cgsCreds, path, filename)\n",
    "\n",
    "# path ist der Pfad zu der Datei, in welcher die Rohdaten liegen \n",
    "\n",
    "print(path)"
   ]
  },
  {
   "cell_type": "markdown",
   "metadata": {},
   "source": [
    "## Der eigentliche Code"
   ]
  },
  {
   "cell_type": "code",
   "execution_count": 6,
   "metadata": {},
   "outputs": [],
   "source": [
    "sPM2_5 = []\n",
    "sPM10 = []"
   ]
  },
  {
   "cell_type": "code",
   "execution_count": 7,
   "metadata": {},
   "outputs": [],
   "source": [
    "# Start der Zeit für die Zeitmessung\n",
    "start = time.time()\n",
    "\n",
    "with open(path,newline = '') as f:\n",
    "    readers = csv.DictReader(f, delimiter= ';')\n",
    "    for row in readers:\n",
    "        PM10 = float(row[\"P1\"])\n",
    "        PM2_5 = float(row[\"P2\"])\n",
    "        sPM10.append(PM10)\n",
    "        sPM2_5.append(PM2_5)\n",
    "        pass\n",
    "      \n",
    "\n",
    "# Anzahl der PM2_5 und PM10 Werte\n",
    "anzAll = 0\n",
    "\n",
    "# Summe aller addierten PM10 Werte\n",
    "wertAllPM10 = 0\n",
    "\n",
    "\n",
    "for i in range(0, len(sPM10)):\n",
    "        \n",
    "    #PM10 \n",
    "    wertAllPM10 += sPM10[i]\n",
    "    anzAll += 1\n",
    "\n",
    "# Summe aller addierten PM2_5 Werte\n",
    "wertAllPM2_5 = 0\n",
    "\n",
    "for i in range(0, len(sPM2_5)):\n",
    "        \n",
    "    #PM2_5\n",
    "    wertAllPM2_5 += sPM2_5[i]\n",
    "\n",
    "# Durchschnittswert = Summe aller Werte durch Anzahl aller Werte\n",
    "durchWertPM10 = wertAllPM10 / anzAll\n",
    "durchWertPM2_5 = wertAllPM2_5 / anzAll\n",
    "\n",
    "# Ende der Zeit für die Zeitmessung\n",
    "end = time.time()\n",
    "\n",
    "# endzeit - Anfangszeit = benötigte Zeit\n",
    "diff = end-start\n",
    "\n"
   ]
  },
  {
   "cell_type": "markdown",
   "metadata": {},
   "source": [
    "## Die Printouts"
   ]
  },
  {
   "cell_type": "code",
   "execution_count": 8,
   "metadata": {},
   "outputs": [
    {
     "name": "stdout",
     "output_type": "stream",
     "text": [
      "Der Feinstaubwert (PM10) lag am 5.4.2019 bei 9.50 μm pro m^3\n",
      "Der Feinstaubwert (PM2_5) lag am 5.4.2019 bei 7.39 μm pro m^3\n",
      "Sec: 0.0034\n"
     ]
    }
   ],
   "source": [
    "print(\"Der Feinstaubwert (PM10) lag am %d.%d.%d bei %.2f μm pro m^3\" %(d,m,y,durchWertPM10))\n",
    "print(\"Der Feinstaubwert (PM2_5) lag am %d.%d.%d bei %.2f μm pro m^3\" %(d,m,y,durchWertPM2_5))\n",
    "\n",
    "\n",
    "print(\"Sec: %.4f\" %(diff)) \n"
   ]
  }
 ],
 "metadata": {
  "kernelspec": {
   "display_name": "Python 3",
   "language": "python",
   "name": "python3"
  },
  "language_info": {
   "codemirror_mode": {
    "name": "ipython",
    "version": 3
   },
   "file_extension": ".py",
   "mimetype": "text/x-python",
   "name": "python",
   "nbconvert_exporter": "python",
   "pygments_lexer": "ipython3",
   "version": "3.7.2"
  }
 },
 "nbformat": 4,
 "nbformat_minor": 1
}
