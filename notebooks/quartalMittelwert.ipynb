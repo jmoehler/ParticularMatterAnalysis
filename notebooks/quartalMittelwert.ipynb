{
 "cells": [
  {
   "cell_type": "markdown",
   "metadata": {
    "collapsed": true
   },
   "source": [
    "# Quartal Mittelwert\n",
    "_Weitere Informationen sind im Code in den mit # markierten Zeilen zu finden_"
   ]
  },
  {
   "cell_type": "markdown",
   "metadata": {},
   "source": [
    "## Die Imports"
   ]
  },
  {
   "cell_type": "code",
   "execution_count": 24,
   "metadata": {},
   "outputs": [],
   "source": [
    "# IBM Cloud\n",
    "from ibm_botocore.client import Config\n",
    "import ibm_boto3\n",
    "\n",
    "\n",
    "import csv\n",
    "import time\n",
    "import datetime"
   ]
  },
  {
   "cell_type": "markdown",
   "metadata": {},
   "source": [
    "## Spezifikation für das Funktionieren in der Cloud\n",
    "_Die folgenden Codefelder werden nur im bereich der Cloud gebraucht und entfallen bei benutzung auf einem lokalen System_"
   ]
  },
  {
   "cell_type": "markdown",
   "metadata": {},
   "source": [
    "An den Stellen an welchen die Punkte '.........' sind werden eigentlich die erforderlichen Infos eingesetzt, welche aber aus sicherheitstechnischen Gründen von mir entfernt wurden "
   ]
  },
  {
   "cell_type": "code",
   "execution_count": 25,
   "metadata": {},
   "outputs": [],
   "source": [
    "# @hidden_cell\n",
    "# The following code contains the credentials for a connection in your Project.\n",
    "# You might want to remove those credentials before you share your notebook.\n",
    "cosCreds = {\n",
    "    'IBM_API_KEY_ID': '........',\n",
    "    'IAM_SERVICE_ID': 'crn:v1:bluemix:public:iam-identity::a/a6c0651c3aab4e74a4d1e131c1858b21::serviceid:ServiceId-cf18b8e2-291a-4175-b02f-4fa012271ab7',\n",
    "    'ENDPOINT': 'https://s3.private.eu-de.cloud-object-storage.appdomain.cloud',\n",
    "    'IBM_AUTH_ENDPOINT': '........',\n",
    "    'BUCKET': '........'\n",
    "}"
   ]
  },
  {
   "cell_type": "markdown",
   "metadata": {},
   "source": [
    "#### Aus der Cloud lesen"
   ]
  },
  {
   "cell_type": "code",
   "execution_count": 26,
   "metadata": {},
   "outputs": [],
   "source": [
    "def read_file_cos(credentials,local_file_name, key):  \n",
    "    cos = ibm_boto3.client(service_name='s3',\n",
    "    ibm_api_key_id=credentials['IBM_API_KEY_ID'],\n",
    "    ibm_service_instance_id=credentials['IAM_SERVICE_ID'],\n",
    "    ibm_auth_endpoint=credentials['IBM_AUTH_ENDPOINT'],\n",
    "    config=Config(signature_version='oauth'),\n",
    "    endpoint_url=credentials['ENDPOINT'])\n",
    "    data_cos = None \n",
    "    try:\n",
    "        res=cos.download_file(Bucket=credentials['BUCKET'],Key=key,Filename=local_file_name)\n",
    "    except Exception as e:\n",
    "        print(Exception, e)\n",
    "    else:\n",
    "        print('File Downloaded: %s' %(key))"
   ]
  },
  {
   "cell_type": "markdown",
   "metadata": {},
   "source": [
    "### Die Angaben"
   ]
  },
  {
   "cell_type": "code",
   "execution_count": 28,
   "metadata": {},
   "outputs": [],
   "source": [
    "\n",
    "year    = 2018              #year          \n",
    "sensor  =  299              #sensor\n",
    "quartal =    4              #quartal\n",
    "\n",
    "\n",
    "# die Monate eines Quartals \n",
    "qMonths = []"
   ]
  },
  {
   "cell_type": "markdown",
   "metadata": {},
   "source": [
    "## Der eigentliche Code"
   ]
  },
  {
   "cell_type": "code",
   "execution_count": 29,
   "metadata": {
    "scrolled": true
   },
   "outputs": [
    {
     "name": "stdout",
     "output_type": "stream",
     "text": [
      "File Downloaded: 2018-10-01_sds011_sensor_299.csv\n",
      "File Downloaded: 2018-10-02_sds011_sensor_299.csv\n",
      "File Downloaded: 2018-10-03_sds011_sensor_299.csv\n",
      "File Downloaded: 2018-10-04_sds011_sensor_299.csv\n",
      "File Downloaded: 2018-10-05_sds011_sensor_299.csv\n",
      "File Downloaded: 2018-10-06_sds011_sensor_299.csv\n",
      "File Downloaded: 2018-10-07_sds011_sensor_299.csv\n",
      "File Downloaded: 2018-10-08_sds011_sensor_299.csv\n",
      "File Downloaded: 2018-10-09_sds011_sensor_299.csv\n",
      "File Downloaded: 2018-10-10_sds011_sensor_299.csv\n",
      "File Downloaded: 2018-10-11_sds011_sensor_299.csv\n",
      "File Downloaded: 2018-10-12_sds011_sensor_299.csv\n",
      "File Downloaded: 2018-10-13_sds011_sensor_299.csv\n",
      "File Downloaded: 2018-10-14_sds011_sensor_299.csv\n",
      "File Downloaded: 2018-10-15_sds011_sensor_299.csv\n",
      "File Downloaded: 2018-10-16_sds011_sensor_299.csv\n",
      "File Downloaded: 2018-10-17_sds011_sensor_299.csv\n",
      "File Downloaded: 2018-10-18_sds011_sensor_299.csv\n",
      "File Downloaded: 2018-10-19_sds011_sensor_299.csv\n",
      "File Downloaded: 2018-10-20_sds011_sensor_299.csv\n",
      "File Downloaded: 2018-10-21_sds011_sensor_299.csv\n",
      "File Downloaded: 2018-10-22_sds011_sensor_299.csv\n",
      "File Downloaded: 2018-10-23_sds011_sensor_299.csv\n",
      "File Downloaded: 2018-10-24_sds011_sensor_299.csv\n",
      "File Downloaded: 2018-10-25_sds011_sensor_299.csv\n",
      "File Downloaded: 2018-10-26_sds011_sensor_299.csv\n",
      "File Downloaded: 2018-10-27_sds011_sensor_299.csv\n",
      "File Downloaded: 2018-10-28_sds011_sensor_299.csv\n",
      "File Downloaded: 2018-10-29_sds011_sensor_299.csv\n",
      "File Downloaded: 2018-10-30_sds011_sensor_299.csv\n",
      "File Downloaded: 2018-10-31_sds011_sensor_299.csv\n",
      "File Downloaded: 2018-11-01_sds011_sensor_299.csv\n",
      "File Downloaded: 2018-11-02_sds011_sensor_299.csv\n",
      "File Downloaded: 2018-11-03_sds011_sensor_299.csv\n",
      "File Downloaded: 2018-11-04_sds011_sensor_299.csv\n",
      "File Downloaded: 2018-11-05_sds011_sensor_299.csv\n",
      "File Downloaded: 2018-11-06_sds011_sensor_299.csv\n",
      "File Downloaded: 2018-11-07_sds011_sensor_299.csv\n",
      "File Downloaded: 2018-11-08_sds011_sensor_299.csv\n",
      "File Downloaded: 2018-11-09_sds011_sensor_299.csv\n",
      "File Downloaded: 2018-11-10_sds011_sensor_299.csv\n",
      "File Downloaded: 2018-11-11_sds011_sensor_299.csv\n",
      "File Downloaded: 2018-11-12_sds011_sensor_299.csv\n",
      "File Downloaded: 2018-11-13_sds011_sensor_299.csv\n",
      "File Downloaded: 2018-11-14_sds011_sensor_299.csv\n",
      "File Downloaded: 2018-11-15_sds011_sensor_299.csv\n",
      "File Downloaded: 2018-11-16_sds011_sensor_299.csv\n",
      "File Downloaded: 2018-11-17_sds011_sensor_299.csv\n",
      "File Downloaded: 2018-11-18_sds011_sensor_299.csv\n",
      "File Downloaded: 2018-11-19_sds011_sensor_299.csv\n",
      "File Downloaded: 2018-11-20_sds011_sensor_299.csv\n",
      "<class 'Exception'> An error occurred (404) when calling the HeadObject operation: Not Found\n",
      "file 2018-11-21 is not avalible\n",
      "File Downloaded: 2018-11-22_sds011_sensor_299.csv\n",
      "File Downloaded: 2018-11-23_sds011_sensor_299.csv\n",
      "File Downloaded: 2018-11-24_sds011_sensor_299.csv\n",
      "File Downloaded: 2018-11-25_sds011_sensor_299.csv\n",
      "File Downloaded: 2018-11-26_sds011_sensor_299.csv\n",
      "File Downloaded: 2018-11-27_sds011_sensor_299.csv\n",
      "File Downloaded: 2018-11-28_sds011_sensor_299.csv\n",
      "File Downloaded: 2018-11-29_sds011_sensor_299.csv\n",
      "File Downloaded: 2018-11-30_sds011_sensor_299.csv\n",
      "File Downloaded: 2018-12-01_sds011_sensor_299.csv\n",
      "File Downloaded: 2018-12-02_sds011_sensor_299.csv\n",
      "File Downloaded: 2018-12-03_sds011_sensor_299.csv\n",
      "File Downloaded: 2018-12-04_sds011_sensor_299.csv\n",
      "File Downloaded: 2018-12-05_sds011_sensor_299.csv\n",
      "File Downloaded: 2018-12-06_sds011_sensor_299.csv\n",
      "File Downloaded: 2018-12-07_sds011_sensor_299.csv\n",
      "File Downloaded: 2018-12-08_sds011_sensor_299.csv\n",
      "File Downloaded: 2018-12-09_sds011_sensor_299.csv\n",
      "File Downloaded: 2018-12-10_sds011_sensor_299.csv\n",
      "File Downloaded: 2018-12-11_sds011_sensor_299.csv\n",
      "File Downloaded: 2018-12-12_sds011_sensor_299.csv\n",
      "File Downloaded: 2018-12-13_sds011_sensor_299.csv\n",
      "File Downloaded: 2018-12-14_sds011_sensor_299.csv\n",
      "File Downloaded: 2018-12-15_sds011_sensor_299.csv\n",
      "File Downloaded: 2018-12-16_sds011_sensor_299.csv\n",
      "File Downloaded: 2018-12-17_sds011_sensor_299.csv\n",
      "File Downloaded: 2018-12-18_sds011_sensor_299.csv\n",
      "File Downloaded: 2018-12-19_sds011_sensor_299.csv\n",
      "File Downloaded: 2018-12-20_sds011_sensor_299.csv\n",
      "File Downloaded: 2018-12-21_sds011_sensor_299.csv\n",
      "File Downloaded: 2018-12-22_sds011_sensor_299.csv\n",
      "File Downloaded: 2018-12-23_sds011_sensor_299.csv\n",
      "File Downloaded: 2018-12-24_sds011_sensor_299.csv\n",
      "File Downloaded: 2018-12-25_sds011_sensor_299.csv\n",
      "File Downloaded: 2018-12-26_sds011_sensor_299.csv\n",
      "File Downloaded: 2018-12-27_sds011_sensor_299.csv\n",
      "File Downloaded: 2018-12-28_sds011_sensor_299.csv\n",
      "File Downloaded: 2018-12-29_sds011_sensor_299.csv\n",
      "File Downloaded: 2018-12-30_sds011_sensor_299.csv\n",
      "File Downloaded: 2018-12-31_sds011_sensor_299.csv\n"
     ]
    }
   ],
   "source": [
    "# Start der Zeit für die Zeitmessung\n",
    "start = time.time()\n",
    "\n",
    "# das aktuelle Datum\n",
    "now = datetime.datetime.now()\n",
    "\n",
    "\n",
    "# definierung des Quartals\n",
    "if quartal == 4:\n",
    "    months = [10,11,12]\n",
    "    qMonths.extend(months)\n",
    "\n",
    "elif quartal == 3:\n",
    "    months = (7,8,9)\n",
    "    qMonths.extend(months)\n",
    "\n",
    "elif quartal == 2:\n",
    "    months = (4,5,6)\n",
    "    qMonths.extend(months)\n",
    "\n",
    "elif quartal == 1:\n",
    "    months = (1,2,3)\n",
    "    qMonths.extend(months)\n",
    "else:\n",
    "    print(\"invalid quartal\")\n",
    "\n",
    "sPM2_5 = []\n",
    "sPM10 = []\n",
    "\n",
    "# Anzahl der PM2_5 und PM10 Werte\n",
    "anzAllPM10 = 0\n",
    "anzAllPM2_5 = 0\n",
    "\n",
    "# Summe aller addierten PM10 Werte\n",
    "wertAllPM10 = 0\n",
    "\n",
    "# Summe aller addierten PM2_5 Werte\n",
    "wertAllPM2_5 = 0\n",
    "\n",
    "# das herraussuchen der files in einem Quartal\n",
    "for y in [year]:\n",
    "    for m in qMonths:\n",
    "        for d in range(1,32):\n",
    "            if m in [4,6,9,11] and d > 30:\n",
    "                continue\n",
    "            if m == 2 and d >28:\n",
    "                continue\n",
    "            # stop yesterday\n",
    "            if y == 2019 and m > now.month:\n",
    "                continue \n",
    "            if y == 2019 and m == now.month and d > now.day -1:\n",
    "                continue\n",
    "                \n",
    "            filename = \"%04d-%02d-%02d_sds011_sensor_%d.csv\" %(y,m,d,sensor)\n",
    "                        \n",
    "    \n",
    "            localPath = \"/var/tmp/%s\" %(filename)\n",
    "            \n",
    "            read_file_cos(cosCreds,localPath,filename)\n",
    "\n",
    "            try:\n",
    "                with open(localPath,newline = '') as f:\n",
    "                    readers = csv.DictReader(f, delimiter= ';')\n",
    "                    for row in readers:\n",
    "                        PM10 = float(row[\"P1\"])\n",
    "                        PM2_5 = float(row[\"P2\"])\n",
    "                        sPM10.append(PM10)\n",
    "                        sPM2_5.append(PM2_5)\n",
    "                        \n",
    "                \n",
    "                    \n",
    "            except:\n",
    "                print(\"file %04d-%02d-%02d is not avalible\" %(y,m,d))\n",
    "                \n",
    "\n",
    "for i in range(0, len(sPM10)):\n",
    "\n",
    "    #PM10 \n",
    "    wertAllPM10 += sPM10[i]\n",
    "    anzAllPM10 += 1\n",
    "\n",
    "\n",
    "\n",
    "for i in range(0, len(sPM2_5)):\n",
    "    \n",
    "    #PM2_5\n",
    "    wertAllPM2_5 += sPM2_5[i]\n",
    "    anzAllPM2_5 += 1                \n",
    "\n",
    "           \n",
    "# Durchschnittswert = Summe aller Werte durch Anzahl aller Werte\n",
    "durchWertPM10 = wertAllPM10 / anzAllPM10\n",
    "durchWertPM2_5 = wertAllPM2_5 / anzAllPM2_5\n",
    "\n",
    "# Ende der Zeit für die Zeitmessung\n",
    "end = time.time()\n",
    "\n",
    "# endzeit - Anfangszeit = benötigte Zeit\n",
    "diff = end-start\n"
   ]
  },
  {
   "cell_type": "markdown",
   "metadata": {},
   "source": [
    "## Die Printouts"
   ]
  },
  {
   "cell_type": "code",
   "execution_count": 30,
   "metadata": {},
   "outputs": [
    {
     "name": "stdout",
     "output_type": "stream",
     "text": [
      "Der Feinstaubwert (PM10) lag im 4. Quartal des Jahres 2018 bei 10.32 μm pro m^3\n",
      "Der Feinstaubwert (PM2_5) lag im 4. Quartal des Jahres 2018 bei 7.33 μm pro m^3\n",
      "Sec: 25.5935\n"
     ]
    }
   ],
   "source": [
    "print(\"Der Feinstaubwert (PM10) lag im %d. Quartal des Jahres %d bei %.2f μm pro m^3\" \n",
    "%(quartal,year, durchWertPM10))\n",
    "print(\"Der Feinstaubwert (PM2_5) lag im %d. Quartal des Jahres %d bei %.2f μm pro m^3\" \n",
    "%(quartal,year, durchWertPM2_5))\n",
    "\n",
    "print(\"Sec: %.4f\" %(diff)) "
   ]
  },
  {
   "cell_type": "code",
   "execution_count": null,
   "metadata": {},
   "outputs": [],
   "source": []
  }
 ],
 "metadata": {
  "kernelspec": {
   "display_name": "Python 3",
   "language": "python",
   "name": "python3"
  },
  "language_info": {
   "codemirror_mode": {
    "name": "ipython",
    "version": 3
   },
   "file_extension": ".py",
   "mimetype": "text/x-python",
   "name": "python",
   "nbconvert_exporter": "python",
   "pygments_lexer": "ipython3",
   "version": "3.7.2"
  }
 },
 "nbformat": 4,
 "nbformat_minor": 1
}
