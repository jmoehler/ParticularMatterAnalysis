{
 "cells": [
  {
   "cell_type": "markdown",
   "metadata": {
    "collapsed": true
   },
   "source": [
    "# Datensortierung und Umformatierung\n",
    "_Weitere Informationen sind im Code in den mit # markierten Zeilen zu finden_"
   ]
  },
  {
   "cell_type": "markdown",
   "metadata": {},
   "source": [
    "## Die Umformatierung\n",
    "Die Rohdaten werden von einer xlsx Datei zu einer csv Datei umformatiert"
   ]
  },
  {
   "cell_type": "markdown",
   "metadata": {},
   "source": [
    "### Die Imports "
   ]
  },
  {
   "cell_type": "code",
   "execution_count": 13,
   "metadata": {
    "collapsed": true,
    "scrolled": false
   },
   "outputs": [],
   "source": [
    "# IBM Cloud\n",
    "from ibm_botocore.client import Config\n",
    "import ibm_boto3\n",
    "\n",
    "import csv\n",
    "import time\n",
    "\n",
    "from datetime import datetime"
   ]
  },
  {
   "cell_type": "markdown",
   "metadata": {},
   "source": [
    "## Spezifikation für das Funktionieren in der Cloud\n",
    "_Die folgenden Codefelder werden nur im bereich der Cloud gebraucht und entfallen bei benutzung auf einem lokalen System_"
   ]
  },
  {
   "cell_type": "markdown",
   "metadata": {},
   "source": [
    "An den Stellen an welchen die Punkte '.........' sind werden eigentlich die erforderlichen Infos eingesetzt, welche aber aus sicherheitstechnischen Gründen von mir entfernt wurden "
   ]
  },
  {
   "cell_type": "code",
   "execution_count": 14,
   "metadata": {
    "collapsed": true,
    "scrolled": false
   },
   "outputs": [],
   "source": [
    "# @hidden_cell\n",
    "# The following code contains the credentials for a connection in your Project.\n",
    "# You might want to remove those credentials before you share your notebook.\n",
    "cosCreds = {\n",
    "    'IBM_API_KEY_ID': '........',\n",
    "    'IAM_SERVICE_ID': 'crn:v1:bluemix:public:iam-identity::a/a6c0651c3aab4e74a4d1e131c1858b21::serviceid:ServiceId-cf18b8e2-291a-4175-b02f-4fa012271ab7',\n",
    "    'ENDPOINT': 'https://s3.private.eu-de.cloud-object-storage.appdomain.cloud',\n",
    "    'IBM_AUTH_ENDPOINT': '........',\n",
    "    'BUCKET': '........'\n",
    "}"
   ]
  },
  {
   "cell_type": "markdown",
   "metadata": {},
   "source": [
    "#### Aus der Cloud lesen"
   ]
  },
  {
   "cell_type": "code",
   "execution_count": 15,
   "metadata": {
    "collapsed": true,
    "scrolled": false
   },
   "outputs": [],
   "source": [
    "def read_file_cos(credentials,local_file_name, key):  \n",
    "    cos = ibm_boto3.client(service_name='s3',\n",
    "    ibm_api_key_id=credentials['IBM_API_KEY_ID'],\n",
    "    ibm_service_instance_id=credentials['IAM_SERVICE_ID'],\n",
    "    ibm_auth_endpoint=credentials['IBM_AUTH_ENDPOINT'],\n",
    "    config=Config(signature_version='oauth'),\n",
    "    endpoint_url=credentials['ENDPOINT'])\n",
    "    data_cos = None \n",
    "    try:\n",
    "        res=cos.download_file(Bucket=credentials['BUCKET'],Key=key,Filename=local_file_name)\n",
    "    except Exception as e:\n",
    "        print(Exception, e)\n",
    "    else:\n",
    "        print('File Downloaded: %s' %(key))"
   ]
  },
  {
   "cell_type": "markdown",
   "metadata": {},
   "source": [
    "#### In die Cloud lesen"
   ]
  },
  {
   "cell_type": "code",
   "execution_count": 16,
   "metadata": {
    "collapsed": true,
    "scrolled": false
   },
   "outputs": [],
   "source": [
    "def upload_file_cos(credentials,local_file_name,key):  \n",
    "    cos = ibm_boto3.client(service_name='s3',\n",
    "    ibm_api_key_id=credentials['IBM_API_KEY_ID'],\n",
    "    ibm_service_instance_id=credentials['IAM_SERVICE_ID'],\n",
    "    ibm_auth_endpoint=credentials['IBM_AUTH_ENDPOINT'],\n",
    "    config=Config(signature_version='oauth'),\n",
    "    endpoint_url=credentials['ENDPOINT'])\n",
    "    try:\n",
    "        res=cos.upload_file(Filename=local_file_name, Bucket=credentials['BUCKET'],Key=key)\n",
    "    except Exception as e:\n",
    "        print(Exception, e)\n",
    "    else:\n",
    "        print('File Uploaded: %s' %(key))"
   ]
  },
  {
   "cell_type": "markdown",
   "metadata": {},
   "source": [
    "## Der eigentliche Code"
   ]
  },
  {
   "cell_type": "code",
   "execution_count": 26,
   "metadata": {
    "scrolled": true
   },
   "outputs": [
    {
     "name": "stdout",
     "output_type": "stream",
     "text": [
      "File Downloaded: Halbstd-Werte-Stuttgart-Mitte-SZ_1987.csv\n",
      "1987\n",
      "File Uploaded: Halbstd-Werte-Stuttgart-Mitte-SZ_1987_D.csv\n",
      "File Downloaded: Halbstd-Werte-Stuttgart-Mitte-SZ_1988.csv\n",
      "1988\n",
      "File Uploaded: Halbstd-Werte-Stuttgart-Mitte-SZ_1988_D.csv\n",
      "File Downloaded: Halbstd-Werte-Stuttgart-Mitte-SZ_1989.csv\n",
      "1989\n",
      "File Uploaded: Halbstd-Werte-Stuttgart-Mitte-SZ_1989_D.csv\n",
      "File Downloaded: Halbstd-Werte-Stuttgart-Mitte-SZ_1990.csv\n",
      "1990\n",
      "File Uploaded: Halbstd-Werte-Stuttgart-Mitte-SZ_1990_D.csv\n",
      "File Downloaded: Halbstd-Werte-Stuttgart-Mitte-SZ_1991.csv\n",
      "1991\n",
      "File Uploaded: Halbstd-Werte-Stuttgart-Mitte-SZ_1991_D.csv\n",
      "File Downloaded: Halbstd-Werte-Stuttgart-Mitte-SZ_1992.csv\n",
      "1992\n",
      "File Uploaded: Halbstd-Werte-Stuttgart-Mitte-SZ_1992_D.csv\n",
      "File Downloaded: Halbstd-Werte-Stuttgart-Mitte-SZ_1993.csv\n",
      "1993\n",
      "File Uploaded: Halbstd-Werte-Stuttgart-Mitte-SZ_1993_D.csv\n",
      "File Downloaded: Halbstd-Werte-Stuttgart-Mitte-SZ_1994.csv\n",
      "1994\n",
      "File Uploaded: Halbstd-Werte-Stuttgart-Mitte-SZ_1994_D.csv\n",
      "File Downloaded: Halbstd-Werte-Stuttgart-Mitte-SZ_1995.csv\n",
      "1995\n",
      "File Uploaded: Halbstd-Werte-Stuttgart-Mitte-SZ_1995_D.csv\n",
      "File Downloaded: Halbstd-Werte-Stuttgart-Mitte-SZ_1996.csv\n",
      "1996\n",
      "File Uploaded: Halbstd-Werte-Stuttgart-Mitte-SZ_1996_D.csv\n",
      "File Downloaded: Halbstd-Werte-Stuttgart-Mitte-SZ_1997.csv\n",
      "1997\n",
      "File Uploaded: Halbstd-Werte-Stuttgart-Mitte-SZ_1997_D.csv\n",
      "File Downloaded: Halbstd-Werte-Stuttgart-Mitte-SZ_1998.csv\n",
      "1998\n",
      "File Uploaded: Halbstd-Werte-Stuttgart-Mitte-SZ_1998_D.csv\n",
      "File Downloaded: Halbstd-Werte-Stuttgart-Mitte-SZ_1999.csv\n",
      "1999\n",
      "File Uploaded: Halbstd-Werte-Stuttgart-Mitte-SZ_1999_D.csv\n",
      "File Downloaded: Halbstd-Werte-Stuttgart-Mitte-SZ_2000.csv\n",
      "2000\n",
      "File Uploaded: Halbstd-Werte-Stuttgart-Mitte-SZ_2000_D.csv\n",
      "File Downloaded: Halbstd-Werte-Stuttgart-Mitte-SZ_2001.csv\n",
      "2001\n",
      "File Uploaded: Halbstd-Werte-Stuttgart-Mitte-SZ_2001_D.csv\n",
      "File Downloaded: Halbstd-Werte-Stuttgart-Mitte-SZ_2002.csv\n",
      "2002\n",
      "File Uploaded: Halbstd-Werte-Stuttgart-Mitte-SZ_2002_D.csv\n",
      "File Downloaded: Halbstd-Werte-Stuttgart-Mitte-SZ_2003.csv\n",
      "2003\n",
      "File Uploaded: Halbstd-Werte-Stuttgart-Mitte-SZ_2003_D.csv\n",
      "File Downloaded: Halbstd-Werte-Stuttgart-Mitte-SZ_2004.csv\n",
      "2004\n",
      "File Uploaded: Halbstd-Werte-Stuttgart-Mitte-SZ_2004_D.csv\n",
      "File Downloaded: Halbstd-Werte-Stuttgart-Mitte-SZ_2005.csv\n",
      "2005\n",
      "File Uploaded: Halbstd-Werte-Stuttgart-Mitte-SZ_2005_D.csv\n",
      "File Downloaded: Halbstd-Werte-Stuttgart-Mitte-SZ_2006.csv\n",
      "2006\n",
      "File Uploaded: Halbstd-Werte-Stuttgart-Mitte-SZ_2006_D.csv\n",
      "File Downloaded: Halbstd-Werte-Stuttgart-Mitte-SZ_2007.csv\n",
      "2007\n",
      "File Uploaded: Halbstd-Werte-Stuttgart-Mitte-SZ_2007_D.csv\n",
      "File Downloaded: Halbstd-Werte-Stuttgart-Mitte-SZ_2008.csv\n",
      "2008\n",
      "File Uploaded: Halbstd-Werte-Stuttgart-Mitte-SZ_2008_D.csv\n",
      "File Downloaded: Halbstd-Werte-Stuttgart-Mitte-SZ_2009.csv\n",
      "2009\n",
      "File Uploaded: Halbstd-Werte-Stuttgart-Mitte-SZ_2009_D.csv\n",
      "File Downloaded: Halbstd-Werte-Stuttgart-Mitte-SZ_2010.csv\n",
      "2010\n",
      "File Uploaded: Halbstd-Werte-Stuttgart-Mitte-SZ_2010_D.csv\n",
      "File Downloaded: Halbstd-Werte-Stuttgart-Mitte-SZ_2011.csv\n",
      "2011\n",
      "File Uploaded: Halbstd-Werte-Stuttgart-Mitte-SZ_2011_D.csv\n",
      "File Downloaded: Halbstd-Werte-Stuttgart-Mitte-SZ_2012.csv\n",
      "2012\n",
      "File Uploaded: Halbstd-Werte-Stuttgart-Mitte-SZ_2012_D.csv\n",
      "File Downloaded: Halbstd-Werte-Stuttgart-Mitte-SZ_2013.csv\n",
      "2013\n",
      "File Uploaded: Halbstd-Werte-Stuttgart-Mitte-SZ_2013_D.csv\n",
      "File Downloaded: Halbstd-Werte-Stuttgart-Mitte-SZ_2014.csv\n",
      "2014\n",
      "File Uploaded: Halbstd-Werte-Stuttgart-Mitte-SZ_2014_D.csv\n",
      "File Downloaded: Halbstd-Werte-Stuttgart-Mitte-SZ_2015.csv\n",
      "2015\n",
      "File Uploaded: Halbstd-Werte-Stuttgart-Mitte-SZ_2015_D.csv\n",
      "File Downloaded: Halbstd-Werte-Stuttgart-Mitte-SZ_2016.csv\n",
      "2016\n",
      "File Uploaded: Halbstd-Werte-Stuttgart-Mitte-SZ_2016_D.csv\n",
      "File Downloaded: Halbstd-Werte-Stuttgart-Mitte-SZ_2017.csv\n",
      "2017\n",
      "File Uploaded: Halbstd-Werte-Stuttgart-Mitte-SZ_2017_D.csv\n",
      "File Downloaded: Halbstd-Werte-Stuttgart-Mitte-SZ_2018.csv\n",
      "2018\n",
      "File Uploaded: Halbstd-Werte-Stuttgart-Mitte-SZ_2018_D.csv\n"
     ]
    }
   ],
   "source": [
    "start = time.time()\n",
    "i=0\n",
    "o=0\n",
    "\n",
    "\n",
    "\n",
    "# resultfile\n",
    "year = range(1987,2019,1)\n",
    "for y in year:\n",
    "    \n",
    "    header = []\n",
    "    \n",
    "    # filenamen\n",
    "    filenameBeg = \"Halbstd-Werte-Stuttgart-Mitte-SZ_%d.csv\" %(y)\n",
    "    filenameEnd = \"Halbstd-Werte-Stuttgart-Mitte-SZ_%d_D.csv\" %(y)\n",
    "    \n",
    "    localFileBeg = \"/var/tmp/%s\" %(filenameBeg)\n",
    "    localFileEnd = \"/var/tmp/%s\" %(filenameEnd)\n",
    "\n",
    "    read_file_cos(cosCreds,localFileBeg,filenameBeg)\n",
    "    \n",
    "    # csv Endfile öffnen \n",
    "    with open(localFileEnd,'w', newline='') as csvfile:\n",
    "        print(y)\n",
    "        writer_csv = csv.writer(csvfile, delimiter=';')\n",
    "        # lesefile\n",
    "        for datafile in [localFileBeg]:\n",
    "            with open(datafile,newline = '') as f:\n",
    "                readers = csv.reader(f, delimiter= ',')\n",
    "                for row in readers:\n",
    "                    i += 1\n",
    "                    \n",
    "                    # 1. Spalte entfernen\n",
    "                    row.pop(0)\n",
    "                    # wenn mehr als 5 Spalten dann weiter\n",
    "                    if (len(row) < 5):\n",
    "                        continue\n",
    "\n",
    "                    # Datum in Spalte 1 (row[0])\n",
    "                    dateStr = row[0]\n",
    "\n",
    "                    # Zeit in Spalte 2 (row [1])\n",
    "                    timeStr = row[1]\n",
    "\n",
    "                    # die Kopfzeilen zusammenfassen\n",
    "                    if dateStr == \"Datum\":\n",
    "                        for s in range(0, len(row)):\n",
    "                            header.append(row[s] + \"-\" + prevRow[s])\n",
    "                        \n",
    "                        writer_csv.writerow(header)\n",
    "\n",
    "\n",
    "                        continue\n",
    "                    \n",
    "                    \n",
    "                    try:\n",
    "                        # das Datum anpassen\n",
    "                        date1 = datetime.strptime(dateStr, '%Y-%m-%d %H:%M:%S') \n",
    "                        row[0] = date1.strftime('%Y-%m-%d') \n",
    "\n",
    "\n",
    "                        # die Zeit anpassen\n",
    "                        hTime = datetime.strptime(timeStr, '%H:%M:%S')\n",
    "                        row[1] = hTime.strftime('%H:%M')\n",
    "\n",
    "                    except: \n",
    "                        try:\n",
    "                            # falls zeit so geschrieben ebenfalls anpassen\n",
    "                            datetime.strptime(dateStr, '%m/%d/%y')\n",
    "                            row[0] = date.strftime('%Y-%m-%d') \n",
    "\n",
    "    \n",
    "                        except: \n",
    "                            # letzte Zeile speichern ( um sie eventuell mit anderer Zeile zu verbinden)\n",
    "                            prevRow = row\n",
    "                            continue\n",
    "                    # alle legitimem Zeilen speichern\n",
    "                    writer_csv.writerow(row)\n",
    "                    \n",
    "                    # all diese Zeilen zählen\n",
    "                    o += 1\n",
    "                # Upload auf die Cloud  \n",
    "                upload_file_cos(cosCreds,localFileEnd,filenameEnd)\n",
    "            f.close()\n",
    "\n",
    "\n",
    "ende = time.time()\n",
    "diff = ende-start"
   ]
  },
  {
   "cell_type": "markdown",
   "metadata": {},
   "source": [
    "## Informationen"
   ]
  },
  {
   "cell_type": "code",
   "execution_count": 27,
   "metadata": {},
   "outputs": [
    {
     "name": "stdout",
     "output_type": "stream",
     "text": [
      "wrote 510969 (of 561440) rows\n",
      "runtime: 42.70s\n"
     ]
    }
   ],
   "source": [
    "print (\"wrote %d (of %d) rows\" % (o,i))\n",
    "print(\"runtime: %.2fs\" %(diff))"
   ]
  }
 ],
 "metadata": {
  "kernelspec": {
   "display_name": "Python 3",
   "language": "python",
   "name": "python3"
  },
  "language_info": {
   "codemirror_mode": {
    "name": "ipython",
    "version": 3
   },
   "file_extension": ".py",
   "mimetype": "text/x-python",
   "name": "python",
   "nbconvert_exporter": "python",
   "pygments_lexer": "ipython3",
   "version": "3.7.2"
  }
 },
 "nbformat": 4,
 "nbformat_minor": 1
}
