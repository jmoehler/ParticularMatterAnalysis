{
 "cells": [
  {
   "cell_type": "markdown",
   "metadata": {},
   "source": [
    "# Download und formatierung \n",
    "\n",
    "_Weitere Informationen sind im Code in den mit # markierten Zeilen zu finden_"
   ]
  },
  {
   "cell_type": "markdown",
   "metadata": {},
   "source": [
    "### Die Imports"
   ]
  },
  {
   "cell_type": "code",
   "execution_count": 1,
   "metadata": {},
   "outputs": [],
   "source": [
    "# IBM Cloud\n",
    "from ibm_botocore.client import Config\n",
    "import ibm_boto3\n",
    "\n",
    "# Pandas\n",
    "import pandas as pd\n",
    "import time\n",
    "\n",
    "\n"
   ]
  },
  {
   "cell_type": "markdown",
   "metadata": {},
   "source": [
    "## Spezifikation für das Funktionieren in der Cloud\n",
    "_Die folgenden Codefelder werden nur im bereich der Cloud gebraucht und entfallen bei benutzung auf einem lokalen System_"
   ]
  },
  {
   "cell_type": "markdown",
   "metadata": {},
   "source": [
    "An den Stellen an welchen die Punkte '.........' sind werden eigentlich die erforderlichen Infos eingesetzt, welche aber aus sicherheitstechnischen Gründen von mir entfernt wurden "
   ]
  },
  {
   "cell_type": "code",
   "execution_count": 2,
   "metadata": {},
   "outputs": [],
   "source": [
    "# @hidden_cell\n",
    "# The following code contains the credentials for a connection in your Project.\n",
    "# You might want to remove those credentials before you share your notebook.\n",
    "cosCreds = {\n",
    "    'IBM_API_KEY_ID': '.........',\n",
    "    'IAM_SERVICE_ID': 'crn:v1:bluemix:public:iam-identity::a/a6c0651c3aab4e74a4d1e131c1858b21::serviceid:ServiceId-cf18b8e2-291a-4175-b02f-4fa012271ab7',\n",
    "    'ENDPOINT': 'https://s3.private.eu-de.cloud-object-storage.appdomain.cloud',\n",
    "    'IBM_AUTH_ENDPOINT': '.........',\n",
    "    'BUCKET': '.........'\n",
    "}"
   ]
  },
  {
   "cell_type": "code",
   "execution_count": 3,
   "metadata": {},
   "outputs": [],
   "source": [
    "\n",
    "def read_file_cos(credentials,local_file_name, key):  \n",
    "    cos = ibm_boto3.client(service_name='s3',\n",
    "    ibm_api_key_id=credentials['IBM_API_KEY_ID'],\n",
    "    ibm_service_instance_id=credentials['IAM_SERVICE_ID'],\n",
    "    ibm_auth_endpoint=credentials['IBM_AUTH_ENDPOINT'],\n",
    "    config=Config(signature_version='oauth'),\n",
    "    endpoint_url=credentials['ENDPOINT'])\n",
    "    data_cos = None \n",
    "    try:\n",
    "        res=cos.download_file(Bucket=credentials['BUCKET'],Key=key,Filename=local_file_name)\n",
    "    except Exception as e:\n",
    "        print(Exception, e)\n",
    "    else:\n",
    "        print('File Downloaded: %s' %(key))"
   ]
  },
  {
   "cell_type": "code",
   "execution_count": 4,
   "metadata": {},
   "outputs": [],
   "source": [
    "def upload_file_cos(credentials,local_file_name,key):  \n",
    "    cos = ibm_boto3.client(service_name='s3',\n",
    "    ibm_api_key_id=credentials['IBM_API_KEY_ID'],\n",
    "    ibm_service_instance_id=credentials['IAM_SERVICE_ID'],\n",
    "    ibm_auth_endpoint=credentials['IBM_AUTH_ENDPOINT'],\n",
    "    config=Config(signature_version='oauth'),\n",
    "    endpoint_url=credentials['ENDPOINT'])\n",
    "    try:\n",
    "        res=cos.upload_file(Filename=local_file_name, Bucket=credentials['BUCKET'],Key=key)\n",
    "    except Exception as e:\n",
    "        print(Exception, e)\n",
    "    else:\n",
    "        print('File Uploaded: %s' %(key))"
   ]
  },
  {
   "cell_type": "markdown",
   "metadata": {},
   "source": [
    "### Filemane und Ort der Anfangsdatei"
   ]
  },
  {
   "cell_type": "code",
   "execution_count": 5,
   "metadata": {},
   "outputs": [],
   "source": [
    "filenamexls = \"Halbstd-Werte-Stuttgart-Mitte-SZ_1987-2018.xlsx\"\n",
    "\n",
    "localXls = \"/var/tmp/%s\" %(filenamexls)"
   ]
  },
  {
   "cell_type": "markdown",
   "metadata": {},
   "source": [
    "#### einlesen diesen Files"
   ]
  },
  {
   "cell_type": "code",
   "execution_count": 6,
   "metadata": {},
   "outputs": [
    {
     "name": "stdout",
     "output_type": "stream",
     "text": [
      "File Downloaded: Halbstd-Werte-Stuttgart-Mitte-SZ_1987-2018.xlsx\n"
     ]
    }
   ],
   "source": [
    "read_file_cos(cosCreds,localXls,filenamexls)"
   ]
  },
  {
   "cell_type": "markdown",
   "metadata": {},
   "source": [
    "## Der eigentliche Code\n"
   ]
  },
  {
   "cell_type": "code",
   "execution_count": 7,
   "metadata": {
    "scrolled": true
   },
   "outputs": [
    {
     "name": "stdout",
     "output_type": "stream",
     "text": [
      "In process: 1987\n",
      "File Uploaded: Halbstd-Werte-Stuttgart-Mitte-SZ_1987.csv\n",
      "Year 1987; sec: 113.2978\n",
      "In process: 1988\n",
      "File Uploaded: Halbstd-Werte-Stuttgart-Mitte-SZ_1988.csv\n",
      "Year 1988; sec: 227.3919\n",
      "In process: 1989\n",
      "File Uploaded: Halbstd-Werte-Stuttgart-Mitte-SZ_1989.csv\n",
      "Year 1989; sec: 341.6815\n",
      "In process: 1990\n",
      "File Uploaded: Halbstd-Werte-Stuttgart-Mitte-SZ_1990.csv\n",
      "Year 1990; sec: 457.0827\n",
      "In process: 1991\n",
      "File Uploaded: Halbstd-Werte-Stuttgart-Mitte-SZ_1991.csv\n",
      "Year 1991; sec: 570.9638\n",
      "In process: 1992\n",
      "File Uploaded: Halbstd-Werte-Stuttgart-Mitte-SZ_1992.csv\n",
      "Year 1992; sec: 685.8640\n",
      "In process: 1993\n",
      "File Uploaded: Halbstd-Werte-Stuttgart-Mitte-SZ_1993.csv\n",
      "Year 1993; sec: 801.6811\n",
      "In process: 1994\n",
      "File Uploaded: Halbstd-Werte-Stuttgart-Mitte-SZ_1994.csv\n",
      "Year 1994; sec: 916.3486\n",
      "In process: 1995\n",
      "File Uploaded: Halbstd-Werte-Stuttgart-Mitte-SZ_1995.csv\n",
      "Year 1995; sec: 1030.8482\n",
      "In process: 1996\n",
      "File Uploaded: Halbstd-Werte-Stuttgart-Mitte-SZ_1996.csv\n",
      "Year 1996; sec: 1146.5534\n",
      "In process: 1997\n",
      "File Uploaded: Halbstd-Werte-Stuttgart-Mitte-SZ_1997.csv\n",
      "Year 1997; sec: 1261.5722\n",
      "In process: 1998\n",
      "File Uploaded: Halbstd-Werte-Stuttgart-Mitte-SZ_1998.csv\n",
      "Year 1998; sec: 1376.4517\n",
      "In process: 1999\n",
      "File Uploaded: Halbstd-Werte-Stuttgart-Mitte-SZ_1999.csv\n",
      "Year 1999; sec: 1491.2060\n",
      "In process: 2000\n",
      "File Uploaded: Halbstd-Werte-Stuttgart-Mitte-SZ_2000.csv\n",
      "Year 2000; sec: 1606.3410\n",
      "In process: 2001\n",
      "File Uploaded: Halbstd-Werte-Stuttgart-Mitte-SZ_2001.csv\n",
      "Year 2001; sec: 1722.0593\n",
      "In process: 2002\n",
      "File Uploaded: Halbstd-Werte-Stuttgart-Mitte-SZ_2002.csv\n",
      "Year 2002; sec: 1837.1999\n",
      "In process: 2003\n",
      "File Uploaded: Halbstd-Werte-Stuttgart-Mitte-SZ_2003.csv\n",
      "Year 2003; sec: 1953.3308\n",
      "In process: 2004\n",
      "File Uploaded: Halbstd-Werte-Stuttgart-Mitte-SZ_2004.csv\n",
      "Year 2004; sec: 2068.4414\n",
      "In process: 2005\n",
      "File Uploaded: Halbstd-Werte-Stuttgart-Mitte-SZ_2005.csv\n",
      "Year 2005; sec: 2183.4708\n",
      "In process: 2006\n",
      "File Uploaded: Halbstd-Werte-Stuttgart-Mitte-SZ_2006.csv\n",
      "Year 2006; sec: 2298.8514\n",
      "In process: 2007\n",
      "File Uploaded: Halbstd-Werte-Stuttgart-Mitte-SZ_2007.csv\n",
      "Year 2007; sec: 2414.9028\n",
      "In process: 2008\n",
      "File Uploaded: Halbstd-Werte-Stuttgart-Mitte-SZ_2008.csv\n",
      "Year 2008; sec: 2529.6931\n",
      "In process: 2009\n",
      "File Uploaded: Halbstd-Werte-Stuttgart-Mitte-SZ_2009.csv\n",
      "Year 2009; sec: 2645.9691\n",
      "In process: 2010\n",
      "File Uploaded: Halbstd-Werte-Stuttgart-Mitte-SZ_2010.csv\n",
      "Year 2010; sec: 2761.1630\n",
      "In process: 2011\n",
      "File Uploaded: Halbstd-Werte-Stuttgart-Mitte-SZ_2011.csv\n",
      "Year 2011; sec: 2876.5139\n",
      "In process: 2012\n",
      "File Uploaded: Halbstd-Werte-Stuttgart-Mitte-SZ_2012.csv\n",
      "Year 2012; sec: 2991.4378\n",
      "In process: 2013\n",
      "File Uploaded: Halbstd-Werte-Stuttgart-Mitte-SZ_2013.csv\n",
      "Year 2013; sec: 3105.9362\n",
      "In process: 2014\n",
      "File Uploaded: Halbstd-Werte-Stuttgart-Mitte-SZ_2014.csv\n",
      "Year 2014; sec: 3221.1185\n",
      "In process: 2015\n",
      "File Uploaded: Halbstd-Werte-Stuttgart-Mitte-SZ_2015.csv\n",
      "Year 2015; sec: 3336.5426\n",
      "In process: 2016\n",
      "File Uploaded: Halbstd-Werte-Stuttgart-Mitte-SZ_2016.csv\n",
      "Year 2016; sec: 3452.0341\n",
      "In process: 2017\n",
      "File Uploaded: Halbstd-Werte-Stuttgart-Mitte-SZ_2017.csv\n",
      "Year 2017; sec: 3566.3926\n",
      "In process: 2018\n",
      "File Uploaded: Halbstd-Werte-Stuttgart-Mitte-SZ_2018.csv\n",
      "Year 2018; sec: 3681.1932\n"
     ]
    }
   ],
   "source": [
    "# Zeit start\n",
    "start = time.time()\n",
    "\n",
    "\n",
    "years = range(1987,2019,1)\n",
    "\n",
    "\n",
    "for y in years:\n",
    "    print(\"In process: %d\" %(y))\n",
    "\n",
    "    # das xls File wird eingelesen\n",
    "    df = pd.read_excel(localXls, sheet_name = str(y), index_col = None)\n",
    "   \n",
    "    # das File wird zu einem csv File formatiert\n",
    "    filenamecsv = \"Halbstd-Werte-Stuttgart-Mitte-SZ_%s.csv\" %(y)\n",
    "    \n",
    "    # das File wird lokal gespeidhert\n",
    "    localCsv = '/var/tmp/%s' %(filenamecsv)\n",
    "    df.to_csv(localCsv, encoding='utf-8')\n",
    "    \n",
    "    # das File wird in die Cloud geladen\n",
    "    upload_file_cos(cosCreds,localCsv,filenamecsv)\n",
    "    \n",
    "    # Zeit für ein Jahr Ende\n",
    "    end1 = time.time()\n",
    "    \n",
    "    # Zeitspanne berechnen\n",
    "    time1 = end1-start\n",
    "    \n",
    "    # Zeitspanne ausdrucken\n",
    "    print(\"Year %d; sec: %.4f\" %(y,time1))\n",
    "    \n",
    "# Zeit ende\n",
    "end = time.time()\n",
    "\n",
    "# Zeitspanne berechnen\n",
    "time = end-start"
   ]
  },
  {
   "cell_type": "markdown",
   "metadata": {},
   "source": [
    "## Die Dauer"
   ]
  },
  {
   "cell_type": "code",
   "execution_count": 8,
   "metadata": {},
   "outputs": [
    {
     "name": "stdout",
     "output_type": "stream",
     "text": [
      "Sec: 3681.1934\n"
     ]
    }
   ],
   "source": [
    "# Zeitspanne ausdrucken\n",
    "print(\"Sec: %.4f\" %(time))"
   ]
  }
 ],
 "metadata": {
  "kernelspec": {
   "display_name": "Python 3",
   "language": "python",
   "name": "python3"
  },
  "language_info": {
   "codemirror_mode": {
    "name": "ipython",
    "version": 3
   },
   "file_extension": ".py",
   "mimetype": "text/x-python",
   "name": "python",
   "nbconvert_exporter": "python",
   "pygments_lexer": "ipython3",
   "version": "3.7.2"
  }
 },
 "nbformat": 4,
 "nbformat_minor": 1
}
